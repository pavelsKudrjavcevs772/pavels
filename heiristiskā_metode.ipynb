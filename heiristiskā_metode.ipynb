{
  "nbformat": 4,
  "nbformat_minor": 0,
  "metadata": {
    "colab": {
      "provenance": []
    },
    "kernelspec": {
      "name": "python3",
      "display_name": "Python 3"
    },
    "language_info": {
      "name": "python"
    }
  },
  "cells": [
    {
      "cell_type": "code",
      "source": [
        "import tweepy\n",
        "import math\n",
        "from datetime import datetime, timezone\n",
        "import time\n",
        "\n",
        "# Twitter API dati\n",
        "bearer_token = \"AAAAAAAAAAAAAAAAAAAAAKTn1wEAAAAAoA0PDvIRTBKAj4DEQc44vuUb0lY%3DCRSn3gqw7WWsTbAj769hbDBxB9lVeHrz405FQAawTpCQNeFiba\"\n",
        "\n",
        "client = tweepy.Client(bearer_token=bearer_token, wait_on_rate_limit=True)"
      ],
      "metadata": {
        "id": "jaHF6B5ta9LB"
      },
      "execution_count": 1,
      "outputs": []
    },
    {
      "cell_type": "code",
      "source": [
        "def analyse_account(user_data):\n",
        "    created_at = user_data.created_at.replace(tzinfo=timezone.utc)\n",
        "    now = datetime.now(timezone.utc)\n",
        "    account_age_days = (now - created_at).days\n",
        "\n",
        "    weight = 0\n",
        "    if account_age_days < 30:\n",
        "        weight += (30 - account_age_days)  # jo jaunāks, jo aizdomīgāks\n",
        "    elif user_data.public_metrics[\"followers_count\"] < 10:\n",
        "        weight += 10\n",
        "\n",
        "    if not user_data.verified:\n",
        "        weight += 50\n",
        "    else:\n",
        "        weight -= 10\n",
        "\n",
        "    return weight"
      ],
      "metadata": {
        "id": "sEPNWJyKbLnj"
      },
      "execution_count": 2,
      "outputs": []
    },
    {
      "cell_type": "code",
      "source": [
        "def analyse_tweets_similarity(tweets):\n",
        "    unique_texts = set()\n",
        "    for tweet in tweets:\n",
        "        unique_texts.add(tweet.text.strip())\n",
        "\n",
        "    total = len(tweets)\n",
        "    if total == 0:\n",
        "        return 0\n",
        "\n",
        "    return 100 * (total - len(unique_texts)) / total"
      ],
      "metadata": {
        "id": "A-SoAvgSbO5k"
      },
      "execution_count": 3,
      "outputs": []
    },
    {
      "cell_type": "code",
      "source": [
        "def tweet_time_intervals(tweets):\n",
        "    if len(tweets) < 2:\n",
        "        return 0\n",
        "\n",
        "    timestamps = [tweet.created_at.timestamp() for tweet in tweets]\n",
        "    timestamps.sort()\n",
        "\n",
        "    intervals = [timestamps[i+1] - timestamps[i] for i in range(len(timestamps)-1)]\n",
        "    mean_interval = sum(intervals) / len(intervals)\n",
        "    variance = sum((x - mean_interval)**2 for x in intervals) / len(intervals)\n",
        "    std_dev = math.sqrt(variance)\n",
        "\n",
        "    weight = 0\n",
        "    if std_dev < 300:  # mazāka par 5 minūtēm\n",
        "        weight += 20\n",
        "    if std_dev > 0:\n",
        "        weight += 400 / std_dev\n",
        "    return weight"
      ],
      "metadata": {
        "id": "nvqe90jCbTNB"
      },
      "execution_count": 4,
      "outputs": []
    },
    {
      "cell_type": "code",
      "source": [
        "def bot_score(username, max_tweets=10):\n",
        "    try:\n",
        "        user = client.get_user(username=username, user_fields=[\"created_at\", \"public_metrics\", \"verified\"]).data\n",
        "        tweets = client.get_users_tweets(user.id, max_results=min(max_tweets, 100), tweet_fields=[\"created_at\"]).data or []\n",
        "\n",
        "        score = 0\n",
        "        score += analyse_account(user)\n",
        "        score += analyse_tweets_similarity(tweets)\n",
        "        score += tweet_time_intervals(tweets)\n",
        "        return score\n",
        "    except Exception as e:\n",
        "        print(f\"Error analyzing @{username}: {e}\")\n",
        "        return None"
      ],
      "metadata": {
        "id": "K1n8gUR1bVWG"
      },
      "execution_count": 5,
      "outputs": []
    },
    {
      "cell_type": "code",
      "source": [
        "def is_bot(score, threshold=50):\n",
        "    if score is None:\n",
        "        return \"Unknown\"\n",
        "    return score >= threshold"
      ],
      "metadata": {
        "id": "LwgiJSWKbW5H"
      },
      "execution_count": 6,
      "outputs": []
    },
    {
      "cell_type": "code",
      "source": [
        "username = \"khazi_messi\"\n",
        "score = bot_score(username)\n",
        "print(f\"Bot score for @{username}: {score}\")\n",
        "print(\"Classification:\", \"Bot\" if is_bot(score) else \"Human\")"
      ],
      "metadata": {
        "colab": {
          "base_uri": "https://localhost:8080/"
        },
        "id": "UporS7_NbiTJ",
        "outputId": "41c7b874-4d34-4fc9-b7cc-2486587f4ece"
      },
      "execution_count": 7,
      "outputs": [
        {
          "output_type": "stream",
          "name": "stdout",
          "text": [
            "Bot score for @khazi_messi: 60.0019791004183\n",
            "Classification: Bot\n"
          ]
        }
      ]
    }
  ]
}